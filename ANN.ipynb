{
  "nbformat": 4,
  "nbformat_minor": 0,
  "metadata": {
    "colab": {
      "provenance": []
    },
    "kernelspec": {
      "name": "python3",
      "display_name": "Python 3"
    },
    "language_info": {
      "name": "python"
    }
  },
  "cells": [
    {
      "cell_type": "code",
      "execution_count": 1,
      "metadata": {
        "id": "DU11YJBYHivq"
      },
      "outputs": [],
      "source": [
        "#ANN"
      ]
    },
    {
      "cell_type": "code",
      "source": [
        "import pandas as pd\n",
        "import numpy as np\n",
        "from sklearn.datasets import load_digits\n",
        "from sklearn.model_selection import train_test_split\n",
        "from sklearn.preprocessing import StandardScaler"
      ],
      "metadata": {
        "id": "LgxCeW4OHngo"
      },
      "execution_count": 6,
      "outputs": []
    },
    {
      "cell_type": "code",
      "source": [
        "from sklearn.neural_network import MLPClassifier"
      ],
      "metadata": {
        "id": "xvyfUC7lH2M0"
      },
      "execution_count": 7,
      "outputs": []
    },
    {
      "cell_type": "code",
      "source": [
        "digits = load_digits()\n",
        "print(digits)"
      ],
      "metadata": {
        "colab": {
          "base_uri": "https://localhost:8080/"
        },
        "id": "iU5dqHBcIW0L",
        "outputId": "4d3e41d5-4f80-4269-9dcd-186f6b3d0de9"
      },
      "execution_count": 12,
      "outputs": [
        {
          "output_type": "stream",
          "name": "stdout",
          "text": [
            "{'data': array([[ 0.,  0.,  5., ...,  0.,  0.,  0.],\n",
            "       [ 0.,  0.,  0., ..., 10.,  0.,  0.],\n",
            "       [ 0.,  0.,  0., ..., 16.,  9.,  0.],\n",
            "       ...,\n",
            "       [ 0.,  0.,  1., ...,  6.,  0.,  0.],\n",
            "       [ 0.,  0.,  2., ..., 12.,  0.,  0.],\n",
            "       [ 0.,  0., 10., ..., 12.,  1.,  0.]]), 'target': array([0, 1, 2, ..., 8, 9, 8]), 'frame': None, 'feature_names': ['pixel_0_0', 'pixel_0_1', 'pixel_0_2', 'pixel_0_3', 'pixel_0_4', 'pixel_0_5', 'pixel_0_6', 'pixel_0_7', 'pixel_1_0', 'pixel_1_1', 'pixel_1_2', 'pixel_1_3', 'pixel_1_4', 'pixel_1_5', 'pixel_1_6', 'pixel_1_7', 'pixel_2_0', 'pixel_2_1', 'pixel_2_2', 'pixel_2_3', 'pixel_2_4', 'pixel_2_5', 'pixel_2_6', 'pixel_2_7', 'pixel_3_0', 'pixel_3_1', 'pixel_3_2', 'pixel_3_3', 'pixel_3_4', 'pixel_3_5', 'pixel_3_6', 'pixel_3_7', 'pixel_4_0', 'pixel_4_1', 'pixel_4_2', 'pixel_4_3', 'pixel_4_4', 'pixel_4_5', 'pixel_4_6', 'pixel_4_7', 'pixel_5_0', 'pixel_5_1', 'pixel_5_2', 'pixel_5_3', 'pixel_5_4', 'pixel_5_5', 'pixel_5_6', 'pixel_5_7', 'pixel_6_0', 'pixel_6_1', 'pixel_6_2', 'pixel_6_3', 'pixel_6_4', 'pixel_6_5', 'pixel_6_6', 'pixel_6_7', 'pixel_7_0', 'pixel_7_1', 'pixel_7_2', 'pixel_7_3', 'pixel_7_4', 'pixel_7_5', 'pixel_7_6', 'pixel_7_7'], 'target_names': array([0, 1, 2, 3, 4, 5, 6, 7, 8, 9]), 'images': array([[[ 0.,  0.,  5., ...,  1.,  0.,  0.],\n",
            "        [ 0.,  0., 13., ..., 15.,  5.,  0.],\n",
            "        [ 0.,  3., 15., ..., 11.,  8.,  0.],\n",
            "        ...,\n",
            "        [ 0.,  4., 11., ..., 12.,  7.,  0.],\n",
            "        [ 0.,  2., 14., ..., 12.,  0.,  0.],\n",
            "        [ 0.,  0.,  6., ...,  0.,  0.,  0.]],\n",
            "\n",
            "       [[ 0.,  0.,  0., ...,  5.,  0.,  0.],\n",
            "        [ 0.,  0.,  0., ...,  9.,  0.,  0.],\n",
            "        [ 0.,  0.,  3., ...,  6.,  0.,  0.],\n",
            "        ...,\n",
            "        [ 0.,  0.,  1., ...,  6.,  0.,  0.],\n",
            "        [ 0.,  0.,  1., ...,  6.,  0.,  0.],\n",
            "        [ 0.,  0.,  0., ..., 10.,  0.,  0.]],\n",
            "\n",
            "       [[ 0.,  0.,  0., ..., 12.,  0.,  0.],\n",
            "        [ 0.,  0.,  3., ..., 14.,  0.,  0.],\n",
            "        [ 0.,  0.,  8., ..., 16.,  0.,  0.],\n",
            "        ...,\n",
            "        [ 0.,  9., 16., ...,  0.,  0.,  0.],\n",
            "        [ 0.,  3., 13., ..., 11.,  5.,  0.],\n",
            "        [ 0.,  0.,  0., ..., 16.,  9.,  0.]],\n",
            "\n",
            "       ...,\n",
            "\n",
            "       [[ 0.,  0.,  1., ...,  1.,  0.,  0.],\n",
            "        [ 0.,  0., 13., ...,  2.,  1.,  0.],\n",
            "        [ 0.,  0., 16., ..., 16.,  5.,  0.],\n",
            "        ...,\n",
            "        [ 0.,  0., 16., ..., 15.,  0.,  0.],\n",
            "        [ 0.,  0., 15., ..., 16.,  0.,  0.],\n",
            "        [ 0.,  0.,  2., ...,  6.,  0.,  0.]],\n",
            "\n",
            "       [[ 0.,  0.,  2., ...,  0.,  0.,  0.],\n",
            "        [ 0.,  0., 14., ..., 15.,  1.,  0.],\n",
            "        [ 0.,  4., 16., ..., 16.,  7.,  0.],\n",
            "        ...,\n",
            "        [ 0.,  0.,  0., ..., 16.,  2.,  0.],\n",
            "        [ 0.,  0.,  4., ..., 16.,  2.,  0.],\n",
            "        [ 0.,  0.,  5., ..., 12.,  0.,  0.]],\n",
            "\n",
            "       [[ 0.,  0., 10., ...,  1.,  0.,  0.],\n",
            "        [ 0.,  2., 16., ...,  1.,  0.,  0.],\n",
            "        [ 0.,  0., 15., ..., 15.,  0.,  0.],\n",
            "        ...,\n",
            "        [ 0.,  4., 16., ..., 16.,  6.,  0.],\n",
            "        [ 0.,  8., 16., ..., 16.,  8.,  0.],\n",
            "        [ 0.,  1.,  8., ..., 12.,  1.,  0.]]]), 'DESCR': \".. _digits_dataset:\\n\\nOptical recognition of handwritten digits dataset\\n--------------------------------------------------\\n\\n**Data Set Characteristics:**\\n\\n    :Number of Instances: 1797\\n    :Number of Attributes: 64\\n    :Attribute Information: 8x8 image of integer pixels in the range 0..16.\\n    :Missing Attribute Values: None\\n    :Creator: E. Alpaydin (alpaydin '@' boun.edu.tr)\\n    :Date: July; 1998\\n\\nThis is a copy of the test set of the UCI ML hand-written digits datasets\\nhttps://archive.ics.uci.edu/ml/datasets/Optical+Recognition+of+Handwritten+Digits\\n\\nThe data set contains images of hand-written digits: 10 classes where\\neach class refers to a digit.\\n\\nPreprocessing programs made available by NIST were used to extract\\nnormalized bitmaps of handwritten digits from a preprinted form. From a\\ntotal of 43 people, 30 contributed to the training set and different 13\\nto the test set. 32x32 bitmaps are divided into nonoverlapping blocks of\\n4x4 and the number of on pixels are counted in each block. This generates\\nan input matrix of 8x8 where each element is an integer in the range\\n0..16. This reduces dimensionality and gives invariance to small\\ndistortions.\\n\\nFor info on NIST preprocessing routines, see M. D. Garris, J. L. Blue, G.\\nT. Candela, D. L. Dimmick, J. Geist, P. J. Grother, S. A. Janet, and C.\\nL. Wilson, NIST Form-Based Handprint Recognition System, NISTIR 5469,\\n1994.\\n\\n.. topic:: References\\n\\n  - C. Kaynak (1995) Methods of Combining Multiple Classifiers and Their\\n    Applications to Handwritten Digit Recognition, MSc Thesis, Institute of\\n    Graduate Studies in Science and Engineering, Bogazici University.\\n  - E. Alpaydin, C. Kaynak (1998) Cascading Classifiers, Kybernetika.\\n  - Ken Tang and Ponnuthurai N. Suganthan and Xi Yao and A. Kai Qin.\\n    Linear dimensionalityreduction using relevance weighted LDA. School of\\n    Electrical and Electronic Engineering Nanyang Technological University.\\n    2005.\\n  - Claudio Gentile. A New Approximate Maximal Margin Classification\\n    Algorithm. NIPS. 2000.\\n\"}\n"
          ]
        }
      ]
    },
    {
      "cell_type": "code",
      "source": [
        "X = digits.data\n",
        "y = digits.target"
      ],
      "metadata": {
        "id": "sWPIFIjdIchx"
      },
      "execution_count": 13,
      "outputs": []
    },
    {
      "cell_type": "code",
      "source": [
        "print(X.shape)\n",
        "print(y.shape)"
      ],
      "metadata": {
        "colab": {
          "base_uri": "https://localhost:8080/"
        },
        "id": "jtb459TAI-wA",
        "outputId": "47279277-7632-4afb-c827-916a3dc208a8"
      },
      "execution_count": 15,
      "outputs": [
        {
          "output_type": "stream",
          "name": "stdout",
          "text": [
            "(1797, 64)\n",
            "(1797,)\n"
          ]
        }
      ]
    },
    {
      "cell_type": "code",
      "source": [
        "import matplotlib.pyplot as plt\n",
        "plt.matshow(digits.images[0])\n",
        "plt.show()"
      ],
      "metadata": {
        "colab": {
          "base_uri": "https://localhost:8080/",
          "height": 437
        },
        "id": "ycE6kCBfJF7N",
        "outputId": "5c158452-6904-4c4b-a082-a10ceba09fec"
      },
      "execution_count": 18,
      "outputs": [
        {
          "output_type": "display_data",
          "data": {
            "text/plain": [
              "<Figure size 480x480 with 1 Axes>"
            ],
            "image/png": "[encoded data removed]"
          },
          "metadata": {}
        }
      ]
    },
    {
      "cell_type": "code",
      "source": [
        "x_vars_stdscle = StandardScaler().fit_transform(X)\n",
        "x_train,x_test,y_train,y_test =train_test_split(x_vars_stdscle,y,train_size = 0.7,random_state=42)"
      ],
      "metadata": {
        "id": "i0tfF4wJJnmt"
      },
      "execution_count": 20,
      "outputs": []
    },
    {
      "cell_type": "code",
      "source": [
        "from sklearn.pipeline import Pipeline\n",
        "from sklearn.model_selection import train_test_split,GridSearchCV\n",
        "from sklearn.metrics import accuracy_score,classification_report"
      ],
      "metadata": {
        "id": "FfRygmCHJpti"
      },
      "execution_count": 22,
      "outputs": []
    },
    {
      "cell_type": "code",
      "source": [
        "pipeline = Pipeline([('mlp',MLPClassifier(hidden_layer_sizes= (100,50,), activation='relu',solver='adam',alpha=0.0001,max_iter=300 ))]) #pipelining multiple processing steps and models into a single object."
      ],
      "metadata": {
        "id": "mtJmZ0HZK-4q"
      },
      "execution_count": 23,
      "outputs": []
    },
    {
      "cell_type": "code",
      "source": [
        "parameters = {'mlp__alpha':(0.001,0.01,0.1,0.3,0.5,1.0), 'mlp__max_iter':(100,200,300)} # creating a dictionary parameters"
      ],
      "metadata": {
        "id": "d8laGsnFK_y8"
      },
      "execution_count": 24,
      "outputs": []
    },
    {
      "cell_type": "code",
      "source": [
        "grid_search_nn = GridSearchCV(pipeline,parameters,n_jobs=-1,cv=5,verbose=1, scoring='accuracy') # n_jobs: The number of CPU cores to use for parallelizing the search.\n",
        "                                                                                                #cv states about Cross validation. verbose= printing progress and scoring says about accuracy\n",
        "\n",
        "grid_search_nn.fit(x_train,y_train) #fitting the gridsearch\n",
        "\n",
        "print ('\\n\\nNeural Network Best Training score: %0.3f' %grid_search_nn.best_score_)#geting the best score\n",
        "print ('\\nNeural Network Best parameters set:') \n",
        "\n",
        "best_parameters = grid_search_nn.best_estimator_.get_params()\n",
        "for param_name in sorted(parameters.keys()):\n",
        "    print ('\\t%s: %r' % (param_name, best_parameters[param_name]))"
      ],
      "metadata": {
        "colab": {
          "base_uri": "https://localhost:8080/"
        },
        "id": "7luKFoRTL6iq",
        "outputId": "9ebf1b86-976d-47ce-dfd7-1bb01d823ffb"
      },
      "execution_count": 25,
      "outputs": [
        {
          "output_type": "stream",
          "name": "stdout",
          "text": [
            "Fitting 5 folds for each of 18 candidates, totalling 90 fits\n",
            "\n",
            "\n",
            "Neural Network Best Training score: 0.971\n",
            "\n",
            "Neural Network Best parameters set:\n",
            "\tmlp__alpha: 0.01\n",
            "\tmlp__max_iter: 200\n"
          ]
        }
      ]
    },
    {
      "cell_type": "code",
      "source": [
        "#predicting training and testing values\n",
        "predictions_train = grid_search_nn.predict(x_train)\n",
        "predictions_test = grid_search_nn.predict(x_test)\n",
        "\n",
        "#printing accuracy,classification report and confusion matrix\n",
        "print (\"\\nNeural Network Training accuracy:\",round(accuracy_score(y_train, predictions_train),4))\n",
        "print (\"\\nNeural Network Complete report of Training data\\n\",classification_report(y_train, predictions_train))\n",
        "print (\"\\n\\nNeural Network Grid Search- Train Confusion Matrix\\n\\n\",pd.crosstab(y_train, predictions_train,rownames = [\"Actuall\"],colnames = [\"Predicted\"]))"
      ],
      "metadata": {
        "colab": {
          "base_uri": "https://localhost:8080/"
        },
        "id": "cGPftWEmN9Ub",
        "outputId": "a526c918-b23d-4bc9-fb0c-5edc9ba0d147"
      },
      "execution_count": 26,
      "outputs": [
        {
          "output_type": "stream",
          "name": "stdout",
          "text": [
            "\n",
            "Neural Network Training accuracy: 1.0\n",
            "\n",
            "Neural Network Complete report of Training data\n",
            "               precision    recall  f1-score   support\n",
            "\n",
            "           0       1.00      1.00      1.00       125\n",
            "           1       1.00      1.00      1.00       132\n",
            "           2       1.00      1.00      1.00       130\n",
            "           3       1.00      1.00      1.00       129\n",
            "           4       1.00      1.00      1.00       121\n",
            "           5       1.00      1.00      1.00       116\n",
            "           6       1.00      1.00      1.00       128\n",
            "           7       1.00      1.00      1.00       124\n",
            "           8       1.00      1.00      1.00       131\n",
            "           9       1.00      1.00      1.00       121\n",
            "\n",
            "    accuracy                           1.00      1257\n",
            "   macro avg       1.00      1.00      1.00      1257\n",
            "weighted avg       1.00      1.00      1.00      1257\n",
            "\n",
            "\n",
            "\n",
            "Neural Network Grid Search- Train Confusion Matrix\n",
            "\n",
            " Predicted    0    1    2    3    4    5    6    7    8    9\n",
            "Actuall                                                    \n",
            "0          125    0    0    0    0    0    0    0    0    0\n",
            "1            0  132    0    0    0    0    0    0    0    0\n",
            "2            0    0  130    0    0    0    0    0    0    0\n",
            "3            0    0    0  129    0    0    0    0    0    0\n",
            "4            0    0    0    0  121    0    0    0    0    0\n",
            "5            0    0    0    0    0  116    0    0    0    0\n",
            "6            0    0    0    0    0    0  128    0    0    0\n",
            "7            0    0    0    0    0    0    0  124    0    0\n",
            "8            0    0    0    0    0    0    0    0  131    0\n",
            "9            0    0    0    0    0    0    0    0    0  121\n"
          ]
        }
      ]
    },
    {
      "cell_type": "code",
      "source": [
        "#testing with predicted x value and y_test\n",
        "print (\"\\n\\nNeural Network Testing accuracy:\",round(accuracy_score(y_test, predictions_test),4))\n",
        "print (\"\\nNeural Network Complete report of Testing data\\n\",classification_report( y_test, predictions_test))\n",
        "print (\"\\n\\nNeural Network Grid Search- Test Confusion Matrix\\n\\n\",pd.crosstab(y_test, predictions_test,rownames = [\"Actuall\"],colnames = [\"Predicted\"]))"
      ],
      "metadata": {
        "colab": {
          "base_uri": "https://localhost:8080/"
        },
        "id": "-VRfKWiLOI2a",
        "outputId": "823e1b04-84f7-4671-86e3-f63ee4e85623"
      },
      "execution_count": 27,
      "outputs": [
        {
          "output_type": "stream",
          "name": "stdout",
          "text": [
            "\n",
            "\n",
            "Neural Network Testing accuracy: 0.9833\n",
            "\n",
            "Neural Network Complete report of Testing data\n",
            "               precision    recall  f1-score   support\n",
            "\n",
            "           0       1.00      1.00      1.00        53\n",
            "           1       1.00      1.00      1.00        50\n",
            "           2       0.98      1.00      0.99        47\n",
            "           3       1.00      0.96      0.98        54\n",
            "           4       0.98      1.00      0.99        60\n",
            "           5       0.95      0.95      0.95        66\n",
            "           6       0.98      0.98      0.98        53\n",
            "           7       1.00      0.98      0.99        55\n",
            "           8       0.98      0.98      0.98        43\n",
            "           9       0.97      0.98      0.97        59\n",
            "\n",
            "    accuracy                           0.98       540\n",
            "   macro avg       0.98      0.98      0.98       540\n",
            "weighted avg       0.98      0.98      0.98       540\n",
            "\n",
            "\n",
            "\n",
            "Neural Network Grid Search- Test Confusion Matrix\n",
            "\n",
            " Predicted   0   1   2   3   4   5   6   7   8   9\n",
            "Actuall                                          \n",
            "0          53   0   0   0   0   0   0   0   0   0\n",
            "1           0  50   0   0   0   0   0   0   0   0\n",
            "2           0   0  47   0   0   0   0   0   0   0\n",
            "3           0   0   1  52   0   1   0   0   0   0\n",
            "4           0   0   0   0  60   0   0   0   0   0\n",
            "5           0   0   0   0   1  63   1   0   0   1\n",
            "6           0   0   0   0   0   1  52   0   0   0\n",
            "7           0   0   0   0   0   0   0  54   0   1\n",
            "8           0   0   0   0   0   1   0   0  42   0\n",
            "9           0   0   0   0   0   0   0   0   1  58\n"
          ]
        }
      ]
    },
    {
      "cell_type": "code",
      "source": [],
      "metadata": {
        "id": "Fg9_U_B7OU8M"
      },
      "execution_count": null,
      "outputs": []
    }
  ]
}